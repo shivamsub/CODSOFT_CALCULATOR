{
 "cells": [
  {
   "cell_type": "code",
   "execution_count": 1,
   "id": "cf6648bd-aabe-4a5e-baaf-cb9d77781135",
   "metadata": {},
   "outputs": [],
   "source": [
    "#IMPORTING MODULES\n",
    "import tkinter as tk\n",
    "\n",
    "#CREATING A FUNCTION FOR CLICK EVENT\n",
    "def on_click(event):\n",
    "    current = result_label.get()\n",
    "    text = event.widget.cget(\"text\")\n",
    "    if text == \"=\":\n",
    "        try:\n",
    "            result = eval(current)\n",
    "            result_label.set(result)\n",
    "        except Exception as e:\n",
    "            result_label.set(\"Error\")\n",
    "    elif text == \"C\":\n",
    "        result_label.set(\"\")\n",
    "    else:\n",
    "        result_label.set(current + text)\n",
    "\n",
    "\n",
    "#SETTING UP WINDOW\n",
    "window = tk.Tk()\n",
    "window.title(\"CALCULATOR\")\n",
    "window.geometry(\"400x400\")\n",
    "window.resizable(False,False)\n",
    "\n",
    "#SETTING UP LABELS\n",
    "result_label = tk.StringVar()\n",
    "result_label.set(\"\")\n",
    "\n",
    "display_label = tk.Label(window, textvar = result_label,font=(\"Arial Bold\",12), bd=5, relief=\"sunken\", anchor=\"e\")\n",
    "display_label.pack(fill=\"both\", expand=True)\n",
    "\n",
    "#SETTING UP CALCULATOR BUTTONS\n",
    "buttons = [\n",
    "    (\"7\",\"8\",\"9\",\"/\"),\n",
    "    (\"4\",\"5\",\"6\",\"*\"),\n",
    "    (\"1\",\"2\",\"3\",\"-\"),\n",
    "    (\"0 \",\" . \",\"=\",\"+\"),\n",
    "    (\"C\",)\n",
    "]\n",
    "\n",
    "for row in buttons:\n",
    "    button_frame =  tk.Frame(window)\n",
    "    button_frame.pack(fill=\"both\", expand=True)\n",
    "    for i in row:\n",
    "        btn = tk.Button(button_frame, text=i, font=(\"Arial Bold\",12), bd=3, relief=\"raised\")\n",
    "        btn.pack(side=\"left\", fill=\"both\", expand=True)\n",
    "        btn.bind(\"<Button-1>\", on_click)\n",
    "\n",
    "window.mainloop()"
   ]
  }
 ],
 "metadata": {
  "kernelspec": {
   "display_name": "Python 3 (ipykernel)",
   "language": "python",
   "name": "python3"
  },
  "language_info": {
   "codemirror_mode": {
    "name": "ipython",
    "version": 3
   },
   "file_extension": ".py",
   "mimetype": "text/x-python",
   "name": "python",
   "nbconvert_exporter": "python",
   "pygments_lexer": "ipython3",
   "version": "3.11.3"
  }
 },
 "nbformat": 4,
 "nbformat_minor": 5
}
